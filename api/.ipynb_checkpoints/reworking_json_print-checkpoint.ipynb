{
 "cells": [
  {
   "cell_type": "code",
   "execution_count": 1,
   "metadata": {},
   "outputs": [],
   "source": [
    "import transcribe"
   ]
  },
  {
   "cell_type": "code",
   "execution_count": 2,
   "metadata": {},
   "outputs": [
    {
     "name": "stdout",
     "output_type": "stream",
     "text": [
      "* recording\n",
      "we wrote to a new file\n",
      "we wrote to a new file\n",
      "we wrote to a new file\n",
      "we wrote to a new file\n",
      "we wrote to a new file\n",
      "* done recording\n",
      "we wrote to a new file\n",
      "all right we're back at it again no no notice enumerating objects counting objects we rode to any file my got it went through **** yes we take those we take those what we do I think I was \n"
     ]
    }
   ],
   "source": [
    "transcribe.main()"
   ]
  },
  {
   "cell_type": "code",
   "execution_count": 4,
   "metadata": {},
   "outputs": [],
   "source": [
    "import pandas as pd"
   ]
  },
  {
   "cell_type": "code",
   "execution_count": 7,
   "metadata": {},
   "outputs": [
    {
     "data": {
      "text/html": [
       "<div>\n",
       "<style scoped>\n",
       "    .dataframe tbody tr th:only-of-type {\n",
       "        vertical-align: middle;\n",
       "    }\n",
       "\n",
       "    .dataframe tbody tr th {\n",
       "        vertical-align: top;\n",
       "    }\n",
       "\n",
       "    .dataframe thead th {\n",
       "        text-align: right;\n",
       "    }\n",
       "</style>\n",
       "<table border=\"1\" class=\"dataframe\">\n",
       "  <thead>\n",
       "    <tr style=\"text-align: right;\">\n",
       "      <th></th>\n",
       "      <th>word</th>\n",
       "      <th>start</th>\n",
       "      <th>end</th>\n",
       "    </tr>\n",
       "  </thead>\n",
       "  <tbody>\n",
       "  </tbody>\n",
       "</table>\n",
       "</div>"
      ],
      "text/plain": [
       "Empty DataFrame\n",
       "Columns: [word, start, end]\n",
       "Index: []"
      ]
     },
     "execution_count": 7,
     "metadata": {},
     "output_type": "execute_result"
    }
   ],
   "source": [
    "pd.DataFrame(columns=[\"word\", \"start\", \"end\"])"
   ]
  },
  {
   "cell_type": "code",
   "execution_count": 3,
   "metadata": {},
   "outputs": [],
   "source": [
    "a = [[['leading', 2.01, 2.4],\n",
    "  ['the', 2.59, 2.72],\n",
    "  ['pretty', 2.72, 3.54],\n",
    "  ['lady', 3.57, 4.07]],\n",
    " [['you', 4.88, 5.01],\n",
    "  ['are', 5.44, 5.54],\n",
    "  ['going', 5.54, 5.93],\n",
    "  ['to', 5.93, 6.13],\n",
    "  ['lie', 6.13, 6.7],\n",
    "  ['about', 6.95, 7.44],\n",
    "  ['killing', 7.44, 7.89],\n",
    "  ['people', 7.89, 8.49],\n",
    "  ['because', 8.52, 9.16],\n",
    "  ['that', 9.16, 9.41],\n",
    "  ['is', 9.41, 9.64],\n",
    "  ['ultimately', 9.67, 10.29],\n",
    "  ['what', 10.29, 10.49],\n",
    "  ['life', 10.49, 10.84],\n",
    "  ['is', 10.84, 10.98],\n",
    "  ['all', 10.98, 11.26],\n",
    "  ['about', 11.26, 11.84],\n",
    "  ['life', 12.25, 12.56],\n",
    "  ['is', 12.56, 12.66],\n",
    "  ['about', 12.66, 12.96],\n",
    "  ['murdering', 12.96, 13.59],\n",
    "  ['people', 13.59, 14.3]],\n",
    " [['because', 16.41, 16.87],\n",
    "  ['of', 16.87, 16.99],\n",
    "  ['the', 16.99, 17.13],\n",
    "  ['fact', 17.13, 17.73],\n",
    "  ['that', 17.88, 18.2],\n",
    "  ['people', 18.2, 18.61],\n",
    "  [\"aren't\", 18.61, 18.93],\n",
    "  ['worth', 18.93, 19.23],\n",
    "  ['surviving', 19.23, 19.97]]]"
   ]
  },
  {
   "cell_type": "code",
   "execution_count": 6,
   "metadata": {},
   "outputs": [
    {
     "data": {
      "text/plain": [
       "[['leading', 2.01, 2.4],\n",
       " ['the', 2.59, 2.72],\n",
       " ['pretty', 2.72, 3.54],\n",
       " ['lady', 3.57, 4.07]]"
      ]
     },
     "execution_count": 6,
     "metadata": {},
     "output_type": "execute_result"
    }
   ],
   "source": [
    "a[0]"
   ]
  },
  {
   "cell_type": "code",
   "execution_count": 12,
   "metadata": {},
   "outputs": [],
   "source": [
    "import pandas as pd"
   ]
  },
  {
   "cell_type": "code",
   "execution_count": 15,
   "metadata": {},
   "outputs": [],
   "source": [
    "l1 = a[0]\n",
    "AB = pd.DataFrame(l1)"
   ]
  },
  {
   "cell_type": "code",
   "execution_count": 16,
   "metadata": {},
   "outputs": [],
   "source": [
    "l2 = a[1]"
   ]
  },
  {
   "cell_type": "code",
   "execution_count": 17,
   "metadata": {},
   "outputs": [
    {
     "data": {
      "text/plain": [
       "[['you', 4.88, 5.01],\n",
       " ['are', 5.44, 5.54],\n",
       " ['going', 5.54, 5.93],\n",
       " ['to', 5.93, 6.13],\n",
       " ['lie', 6.13, 6.7],\n",
       " ['about', 6.95, 7.44],\n",
       " ['killing', 7.44, 7.89],\n",
       " ['people', 7.89, 8.49],\n",
       " ['because', 8.52, 9.16],\n",
       " ['that', 9.16, 9.41],\n",
       " ['is', 9.41, 9.64],\n",
       " ['ultimately', 9.67, 10.29],\n",
       " ['what', 10.29, 10.49],\n",
       " ['life', 10.49, 10.84],\n",
       " ['is', 10.84, 10.98],\n",
       " ['all', 10.98, 11.26],\n",
       " ['about', 11.26, 11.84],\n",
       " ['life', 12.25, 12.56],\n",
       " ['is', 12.56, 12.66],\n",
       " ['about', 12.66, 12.96],\n",
       " ['murdering', 12.96, 13.59],\n",
       " ['people', 13.59, 14.3]]"
      ]
     },
     "execution_count": 17,
     "metadata": {},
     "output_type": "execute_result"
    }
   ],
   "source": [
    "l2"
   ]
  },
  {
   "cell_type": "code",
   "execution_count": 19,
   "metadata": {},
   "outputs": [
    {
     "data": {
      "text/html": [
       "<div>\n",
       "<style scoped>\n",
       "    .dataframe tbody tr th:only-of-type {\n",
       "        vertical-align: middle;\n",
       "    }\n",
       "\n",
       "    .dataframe tbody tr th {\n",
       "        vertical-align: top;\n",
       "    }\n",
       "\n",
       "    .dataframe thead th {\n",
       "        text-align: right;\n",
       "    }\n",
       "</style>\n",
       "<table border=\"1\" class=\"dataframe\">\n",
       "  <thead>\n",
       "    <tr style=\"text-align: right;\">\n",
       "      <th></th>\n",
       "      <th>0</th>\n",
       "      <th>1</th>\n",
       "      <th>2</th>\n",
       "    </tr>\n",
       "  </thead>\n",
       "  <tbody>\n",
       "    <tr>\n",
       "      <th>0</th>\n",
       "      <td>leading</td>\n",
       "      <td>2.01</td>\n",
       "      <td>2.40</td>\n",
       "    </tr>\n",
       "    <tr>\n",
       "      <th>1</th>\n",
       "      <td>the</td>\n",
       "      <td>2.59</td>\n",
       "      <td>2.72</td>\n",
       "    </tr>\n",
       "    <tr>\n",
       "      <th>2</th>\n",
       "      <td>pretty</td>\n",
       "      <td>2.72</td>\n",
       "      <td>3.54</td>\n",
       "    </tr>\n",
       "    <tr>\n",
       "      <th>3</th>\n",
       "      <td>lady</td>\n",
       "      <td>3.57</td>\n",
       "      <td>4.07</td>\n",
       "    </tr>\n",
       "    <tr>\n",
       "      <th>0</th>\n",
       "      <td>you</td>\n",
       "      <td>4.88</td>\n",
       "      <td>5.01</td>\n",
       "    </tr>\n",
       "    <tr>\n",
       "      <th>1</th>\n",
       "      <td>are</td>\n",
       "      <td>5.44</td>\n",
       "      <td>5.54</td>\n",
       "    </tr>\n",
       "    <tr>\n",
       "      <th>2</th>\n",
       "      <td>going</td>\n",
       "      <td>5.54</td>\n",
       "      <td>5.93</td>\n",
       "    </tr>\n",
       "    <tr>\n",
       "      <th>3</th>\n",
       "      <td>to</td>\n",
       "      <td>5.93</td>\n",
       "      <td>6.13</td>\n",
       "    </tr>\n",
       "    <tr>\n",
       "      <th>4</th>\n",
       "      <td>lie</td>\n",
       "      <td>6.13</td>\n",
       "      <td>6.70</td>\n",
       "    </tr>\n",
       "    <tr>\n",
       "      <th>5</th>\n",
       "      <td>about</td>\n",
       "      <td>6.95</td>\n",
       "      <td>7.44</td>\n",
       "    </tr>\n",
       "    <tr>\n",
       "      <th>6</th>\n",
       "      <td>killing</td>\n",
       "      <td>7.44</td>\n",
       "      <td>7.89</td>\n",
       "    </tr>\n",
       "    <tr>\n",
       "      <th>7</th>\n",
       "      <td>people</td>\n",
       "      <td>7.89</td>\n",
       "      <td>8.49</td>\n",
       "    </tr>\n",
       "    <tr>\n",
       "      <th>8</th>\n",
       "      <td>because</td>\n",
       "      <td>8.52</td>\n",
       "      <td>9.16</td>\n",
       "    </tr>\n",
       "    <tr>\n",
       "      <th>9</th>\n",
       "      <td>that</td>\n",
       "      <td>9.16</td>\n",
       "      <td>9.41</td>\n",
       "    </tr>\n",
       "    <tr>\n",
       "      <th>10</th>\n",
       "      <td>is</td>\n",
       "      <td>9.41</td>\n",
       "      <td>9.64</td>\n",
       "    </tr>\n",
       "    <tr>\n",
       "      <th>11</th>\n",
       "      <td>ultimately</td>\n",
       "      <td>9.67</td>\n",
       "      <td>10.29</td>\n",
       "    </tr>\n",
       "    <tr>\n",
       "      <th>12</th>\n",
       "      <td>what</td>\n",
       "      <td>10.29</td>\n",
       "      <td>10.49</td>\n",
       "    </tr>\n",
       "    <tr>\n",
       "      <th>13</th>\n",
       "      <td>life</td>\n",
       "      <td>10.49</td>\n",
       "      <td>10.84</td>\n",
       "    </tr>\n",
       "    <tr>\n",
       "      <th>14</th>\n",
       "      <td>is</td>\n",
       "      <td>10.84</td>\n",
       "      <td>10.98</td>\n",
       "    </tr>\n",
       "    <tr>\n",
       "      <th>15</th>\n",
       "      <td>all</td>\n",
       "      <td>10.98</td>\n",
       "      <td>11.26</td>\n",
       "    </tr>\n",
       "    <tr>\n",
       "      <th>16</th>\n",
       "      <td>about</td>\n",
       "      <td>11.26</td>\n",
       "      <td>11.84</td>\n",
       "    </tr>\n",
       "    <tr>\n",
       "      <th>17</th>\n",
       "      <td>life</td>\n",
       "      <td>12.25</td>\n",
       "      <td>12.56</td>\n",
       "    </tr>\n",
       "    <tr>\n",
       "      <th>18</th>\n",
       "      <td>is</td>\n",
       "      <td>12.56</td>\n",
       "      <td>12.66</td>\n",
       "    </tr>\n",
       "    <tr>\n",
       "      <th>19</th>\n",
       "      <td>about</td>\n",
       "      <td>12.66</td>\n",
       "      <td>12.96</td>\n",
       "    </tr>\n",
       "    <tr>\n",
       "      <th>20</th>\n",
       "      <td>murdering</td>\n",
       "      <td>12.96</td>\n",
       "      <td>13.59</td>\n",
       "    </tr>\n",
       "    <tr>\n",
       "      <th>21</th>\n",
       "      <td>people</td>\n",
       "      <td>13.59</td>\n",
       "      <td>14.30</td>\n",
       "    </tr>\n",
       "  </tbody>\n",
       "</table>\n",
       "</div>"
      ],
      "text/plain": [
       "             0      1      2\n",
       "0      leading   2.01   2.40\n",
       "1          the   2.59   2.72\n",
       "2       pretty   2.72   3.54\n",
       "3         lady   3.57   4.07\n",
       "0          you   4.88   5.01\n",
       "1          are   5.44   5.54\n",
       "2        going   5.54   5.93\n",
       "3           to   5.93   6.13\n",
       "4          lie   6.13   6.70\n",
       "5        about   6.95   7.44\n",
       "6      killing   7.44   7.89\n",
       "7       people   7.89   8.49\n",
       "8      because   8.52   9.16\n",
       "9         that   9.16   9.41\n",
       "10          is   9.41   9.64\n",
       "11  ultimately   9.67  10.29\n",
       "12        what  10.29  10.49\n",
       "13        life  10.49  10.84\n",
       "14          is  10.84  10.98\n",
       "15         all  10.98  11.26\n",
       "16       about  11.26  11.84\n",
       "17        life  12.25  12.56\n",
       "18          is  12.56  12.66\n",
       "19       about  12.66  12.96\n",
       "20   murdering  12.96  13.59\n",
       "21      people  13.59  14.30"
      ]
     },
     "execution_count": 19,
     "metadata": {},
     "output_type": "execute_result"
    }
   ],
   "source": [
    "BC = pd.DataFrame(l2)\n",
    "pd.concat([AB, BC], axis=0)"
   ]
  },
  {
   "cell_type": "code",
   "execution_count": null,
   "metadata": {},
   "outputs": [],
   "source": []
  }
 ],
 "metadata": {
  "kernelspec": {
   "display_name": "Python 3",
   "language": "python",
   "name": "python3"
  },
  "language_info": {
   "codemirror_mode": {
    "name": "ipython",
    "version": 3
   },
   "file_extension": ".py",
   "mimetype": "text/x-python",
   "name": "python",
   "nbconvert_exporter": "python",
   "pygments_lexer": "ipython3",
   "version": "3.8.3"
  }
 },
 "nbformat": 4,
 "nbformat_minor": 4
}
