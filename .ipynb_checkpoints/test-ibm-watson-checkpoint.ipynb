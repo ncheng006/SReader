{
 "cells": [
  {
   "cell_type": "code",
   "execution_count": null,
   "metadata": {},
   "outputs": [],
   "source": [
    "curl -X POST -u \"apikey:ak2Z9IIJtbF90H-UcCGV3fviteGlCP-Jxoq0WTp442X4\" \\\n",
    "--header \"Content-Type: audio/flac\" \\\n",
    "--data-binary audio-file.flac \\\n",
    "https://api.us-south.speech-to-text.watson.cloud.ibm.com/instances/03c19b2a-6978-4be6-a183-b1a895a5f75f/v1/recognize\n"
   ]
  },
  {
   "cell_type": "code",
   "execution_count": null,
   "metadata": {},
   "outputs": [],
   "source": [
    "curl -X POST -u \"apikey:ak2Z9IIJtbF90H-UcCGV3fviteGlCP-Jxoq0WTp442X4\" \n",
    "--header \"Content-Type: audio/flac\" \n",
    "--data-binary @/C:\\Users\\Rishab\\Documents\\GitHub\\calhacks-8.0-den\\audio-file.flac \n",
    "https://api.us-south.speech-to-text.watson.cloud.ibm.com/instances/03c19b2a-6978-4be6-a183-b1a895a5f75f/v1/recognize\n"
   ]
  },
  {
   "cell_type": "code",
   "execution_count": null,
   "metadata": {},
   "outputs": [],
   "source": [
    "curl -X POST -u \"apikey:heAbpAFxASAMAuIBmADrkLwAlWx5cAt2_e1aUJw348AU\" \\\n",
    "--header \"Content-Type: audio/flac\" \\\n",
    "--data-binary @/Users/foobar/Music/audio-file.flac \\\n",
    "https://api.us-south.speech-to-text.watson.cloud.ibm.com/instances/af3a7056-ef6d-4f39-896f-e164f930afef/v1/recognize\n"
   ]
  },
  {
   "cell_type": "code",
   "execution_count": null,
   "metadata": {},
   "outputs": [],
   "source": []
  }
 ],
 "metadata": {
  "kernelspec": {
   "display_name": "Python 3",
   "language": "python",
   "name": "python3"
  },
  "language_info": {
   "codemirror_mode": {
    "name": "ipython",
    "version": 3
   },
   "file_extension": ".py",
   "mimetype": "text/x-python",
   "name": "python",
   "nbconvert_exporter": "python",
   "pygments_lexer": "ipython3",
   "version": "3.8.3"
  }
 },
 "nbformat": 4,
 "nbformat_minor": 4
}
