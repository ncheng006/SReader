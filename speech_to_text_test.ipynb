{
 "cells": [
  {
   "cell_type": "code",
   "execution_count": 1,
   "metadata": {},
   "outputs": [
    {
     "name": "stdout",
     "output_type": "stream",
     "text": [
      "Collecting google-cloud-speech\n",
      "  Downloading google_cloud_speech-2.10.0-py2.py3-none-any.whl (122 kB)\n",
      "Collecting libcst>=0.2.5\n",
      "  Downloading libcst-0.3.21-py3-none-any.whl (514 kB)\n",
      "Collecting proto-plus>=1.4.0\n",
      "  Downloading proto_plus-1.19.5-py3-none-any.whl (44 kB)\n",
      "Requirement already satisfied: google-api-core[grpc]<3.0.0dev,>=1.26.0 in c:\\users\\rishab\\anaconda3\\lib\\site-packages (from google-cloud-speech) (1.31.0)\n",
      "Requirement already satisfied: packaging>=14.3 in c:\\users\\rishab\\anaconda3\\lib\\site-packages (from google-cloud-speech) (20.4)\n",
      "Requirement already satisfied: typing-extensions>=3.7.4.2 in c:\\users\\rishab\\anaconda3\\lib\\site-packages (from libcst>=0.2.5->google-cloud-speech) (3.7.4.2)\n",
      "Requirement already satisfied: pyyaml>=5.2 in c:\\users\\rishab\\anaconda3\\lib\\site-packages (from libcst>=0.2.5->google-cloud-speech) (5.3.1)\n",
      "Collecting typing-inspect>=0.4.0\n",
      "  Downloading typing_inspect-0.7.1-py3-none-any.whl (8.4 kB)\n",
      "Requirement already satisfied: protobuf>=3.12.0 in c:\\users\\rishab\\anaconda3\\lib\\site-packages (from proto-plus>=1.4.0->google-cloud-speech) (3.14.0)\n",
      "Requirement already satisfied: six>=1.13.0 in c:\\users\\rishab\\anaconda3\\lib\\site-packages (from google-api-core[grpc]<3.0.0dev,>=1.26.0->google-cloud-speech) (1.15.0)\n",
      "Requirement already satisfied: googleapis-common-protos<2.0dev,>=1.6.0 in c:\\users\\rishab\\anaconda3\\lib\\site-packages (from google-api-core[grpc]<3.0.0dev,>=1.26.0->google-cloud-speech) (1.53.0)\n",
      "Requirement already satisfied: pytz in c:\\users\\rishab\\anaconda3\\lib\\site-packages (from google-api-core[grpc]<3.0.0dev,>=1.26.0->google-cloud-speech) (2021.1)\n",
      "Requirement already satisfied: setuptools>=40.3.0 in c:\\users\\rishab\\anaconda3\\lib\\site-packages (from google-api-core[grpc]<3.0.0dev,>=1.26.0->google-cloud-speech) (49.2.0.post20200714)\n",
      "Collecting google-auth<2.0dev,>=1.25.0\n",
      "  Downloading google_auth-1.35.0-py2.py3-none-any.whl (152 kB)\n",
      "Requirement already satisfied: requests<3.0.0dev,>=2.18.0 in c:\\users\\rishab\\anaconda3\\lib\\site-packages (from google-api-core[grpc]<3.0.0dev,>=1.26.0->google-cloud-speech) (2.25.1)\n",
      "Requirement already satisfied: grpcio<2.0dev,>=1.29.0; extra == \"grpc\" in c:\\users\\rishab\\anaconda3\\lib\\site-packages (from google-api-core[grpc]<3.0.0dev,>=1.26.0->google-cloud-speech) (1.34.1)\n",
      "Requirement already satisfied: pyparsing>=2.0.2 in c:\\users\\rishab\\anaconda3\\lib\\site-packages (from packaging>=14.3->google-cloud-speech) (2.4.7)\n",
      "Collecting mypy-extensions>=0.3.0\n",
      "  Downloading mypy_extensions-0.4.3-py2.py3-none-any.whl (4.5 kB)\n",
      "Requirement already satisfied: rsa<5,>=3.1.4; python_version >= \"3.6\" in c:\\users\\rishab\\anaconda3\\lib\\site-packages (from google-auth<2.0dev,>=1.25.0->google-api-core[grpc]<3.0.0dev,>=1.26.0->google-cloud-speech) (4.7)\n",
      "Requirement already satisfied: pyasn1-modules>=0.2.1 in c:\\users\\rishab\\anaconda3\\lib\\site-packages (from google-auth<2.0dev,>=1.25.0->google-api-core[grpc]<3.0.0dev,>=1.26.0->google-cloud-speech) (0.2.8)\n",
      "Requirement already satisfied: cachetools<5.0,>=2.0.0 in c:\\users\\rishab\\anaconda3\\lib\\site-packages (from google-auth<2.0dev,>=1.25.0->google-api-core[grpc]<3.0.0dev,>=1.26.0->google-cloud-speech) (4.2.1)\n",
      "Requirement already satisfied: certifi>=2017.4.17 in c:\\users\\rishab\\anaconda3\\lib\\site-packages (from requests<3.0.0dev,>=2.18.0->google-api-core[grpc]<3.0.0dev,>=1.26.0->google-cloud-speech) (2021.5.30)\n",
      "Requirement already satisfied: chardet<5,>=3.0.2 in c:\\users\\rishab\\anaconda3\\lib\\site-packages (from requests<3.0.0dev,>=2.18.0->google-api-core[grpc]<3.0.0dev,>=1.26.0->google-cloud-speech) (3.0.4)\n",
      "Requirement already satisfied: urllib3<1.27,>=1.21.1 in c:\\users\\rishab\\anaconda3\\lib\\site-packages (from requests<3.0.0dev,>=2.18.0->google-api-core[grpc]<3.0.0dev,>=1.26.0->google-cloud-speech) (1.26.6)\n",
      "Requirement already satisfied: idna<3,>=2.5 in c:\\users\\rishab\\anaconda3\\lib\\site-packages (from requests<3.0.0dev,>=2.18.0->google-api-core[grpc]<3.0.0dev,>=1.26.0->google-cloud-speech) (2.10)\n",
      "Requirement already satisfied: pyasn1>=0.1.3 in c:\\users\\rishab\\anaconda3\\lib\\site-packages (from rsa<5,>=3.1.4; python_version >= \"3.6\"->google-auth<2.0dev,>=1.25.0->google-api-core[grpc]<3.0.0dev,>=1.26.0->google-cloud-speech) (0.4.8)\n",
      "Installing collected packages: mypy-extensions, typing-inspect, libcst, proto-plus, google-cloud-speech, google-auth\n",
      "  Attempting uninstall: google-auth\n",
      "    Found existing installation: google-auth 1.24.0\n",
      "    Uninstalling google-auth-1.24.0:\n",
      "      Successfully uninstalled google-auth-1.24.0\n",
      "Successfully installed google-auth-1.35.0 google-cloud-speech-2.10.0 libcst-0.3.21 mypy-extensions-0.4.3 proto-plus-1.19.5 typing-inspect-0.7.1\n"
     ]
    }
   ],
   "source": [
    "!pip install google-cloud-speech"
   ]
  },
  {
   "cell_type": "code",
   "execution_count": 2,
   "metadata": {},
   "outputs": [],
   "source": [
    "import os\n",
    "from google.cloud import speech"
   ]
  },
  {
   "cell_type": "code",
   "execution_count": 4,
   "metadata": {},
   "outputs": [],
   "source": [
    "os.environ[\"GOOGLE_APPLICATION_CREDENTIALS\"] = 'client_key.json'\n",
    "speech.client = speech.SpeechClient()"
   ]
  },
  {
   "cell_type": "code",
   "execution_count": null,
   "metadata": {},
   "outputs": [],
   "source": [
    "media_file = 'obama_speech.mp3'\n",
    "with open(media_file, 'rb') as f1:\n",
    "    byte_data = f1.read()\n",
    "\n",
    "audio = speech.RecognitionAudio(content=byte_data)"
   ]
  },
  {
   "cell_type": "code",
   "execution_count": null,
   "metadata": {},
   "outputs": [],
   "source": [
    "config = speech.RecognitionConfig()"
   ]
  }
 ],
 "metadata": {
  "kernelspec": {
   "display_name": "Python 3",
   "language": "python",
   "name": "python3"
  },
  "language_info": {
   "codemirror_mode": {
    "name": "ipython",
    "version": 3
   },
   "file_extension": ".py",
   "mimetype": "text/x-python",
   "name": "python",
   "nbconvert_exporter": "python",
   "pygments_lexer": "ipython3",
   "version": "3.8.3"
  }
 },
 "nbformat": 4,
 "nbformat_minor": 4
}
